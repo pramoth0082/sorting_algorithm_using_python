{
 "cells": [
  {
   "cell_type": "markdown",
   "metadata": {},
   "source": [
    "# Python - Sorting Algorithms\n",
    "* Bubble Sort.\n",
    "* Merge Sort.\n",
    "* Insertion Sort.\n",
    "* Shell Sort.\n",
    "* Quick Sort.\n",
    "* Selection Sort."
   ]
  },
  {
   "cell_type": "markdown",
   "metadata": {},
   "source": [
    "## Bubble Sort\n",
    "This simple sorting algorithm iterates over a list, comparing elements in pairs and swapping them until the larger elements \"bubble up\" to the end of the list, and the smaller elements stay at the \"bottom\" also called sinking sort. <br>\n",
    "\n",
    "Algorithm: <br>\n",
    "(Ascending Order) <br>\n",
    "1. Starting with the first element (index=0) compare the current element with the next element of the list.\n",
    "2. If the current element is greater than the next element of the list swap them.\n",
    "3. If the current element is less than the next element, move to the next element. Repeat step 1.\n",
    "\n",
    "(Descending Order) <br>\n",
    "1. Starting with the first element (index=0) compare the current element with the next element of the list.\n",
    "2. If the current element is smaller than the next element of the list swap them.\n",
    "3. If the current element is greater than the next element, move to the next element. Repeat step 1.\n"
   ]
  },
  {
   "cell_type": "markdown",
   "metadata": {},
   "source": [
    "<img src=\"https://www.w3resource.com/w3r_images/bubble-short.png\" alt=\"Girl in a jacket\" width=\"500\" height=\"500\">"
   ]
  },
  {
   "cell_type": "code",
   "execution_count": 1,
   "metadata": {},
   "outputs": [
    {
     "name": "stdout",
     "output_type": "stream",
     "text": [
      "Unsorted List:  [10, 15, 4, 23, 0]\n",
      "[10, 15, 4, 23, 0]\n",
      "[10, 4, 15, 23, 0]\n",
      "[10, 4, 15, 23, 0]\n",
      "[10, 4, 15, 0, 23]\n",
      "\n",
      "[4, 10, 15, 0, 23]\n",
      "[4, 10, 15, 0, 23]\n",
      "[4, 10, 0, 15, 23]\n",
      "\n",
      "[4, 10, 0, 15, 23]\n",
      "[4, 0, 10, 15, 23]\n",
      "\n",
      "[0, 4, 10, 15, 23]\n",
      "\n",
      "Sorted List:  [0, 4, 10, 15, 23]\n"
     ]
    }
   ],
   "source": [
    "#list1 = []\n",
    "#num = int(input(\"How numbers you want to enter: \"))\n",
    "#for k in range(num):\n",
    "#    list1.append(int(input()))\n",
    "\n",
    "\n",
    "#for j in range(len(list1)-1,0,-1):\n",
    "#    for  i in range(j):\n",
    "\n",
    "list1 = [10,15,4,23,0]\n",
    "print(\"Unsorted List: \",list1)\n",
    "for j in range(len(list1)-1):\n",
    "    for  i in range(len(list1)-1-j):\n",
    "        if list1[i] > list1[i+1]:\n",
    "            list1[i], list1[i+1] = list1[i+1], list1[i]\n",
    "            print(list1)\n",
    "        else:\n",
    "            print(list1)\n",
    "    print()\n",
    "print(\"Sorted List: \",list1)"
   ]
  },
  {
   "cell_type": "markdown",
   "metadata": {},
   "source": [
    "## Merge Sort\n",
    "This divide and conquer algorithm splits a list in half, and keeps splitting the list by 2 until it only has singular elements. Adjacent elements become sorted pairs, then sorted pairs are merged and sorted with other pairs as well. This process continues until we get a sorted list with all the elements of the unsorted input list. <br>\n",
    "\n",
    "1. Divide\n",
    "2. Conquer\n",
    "3. Combine\n",
    "\n",
    "Algorithm step: <br>\n",
    "1. Split the unsorted list.\n",
    "2. Compare each of the elements and group them.\n",
    "3. Repeat step 2 until whole list is merged and sorted."
   ]
  },
  {
   "cell_type": "markdown",
   "metadata": {},
   "source": [
    "<img src=\"https://upload.wikimedia.org/wikipedia/commons/thumb/e/e6/Merge_sort_algorithm_diagram.svg/330px-Merge_sort_algorithm_diagram.svg.png\" alt=\"Girl in a jacket\" width=\"300\" height=\"300\">"
   ]
  },
  {
   "cell_type": "code",
   "execution_count": 2,
   "metadata": {
    "scrolled": true
   },
   "outputs": [
    {
     "name": "stdout",
     "output_type": "stream",
     "text": [
      "How many elments you want in the list:4\n",
      "23\n",
      "2\n",
      "44\n",
      "1\n",
      "Merged Sort:  [1, 2, 23, 44]\n"
     ]
    }
   ],
   "source": [
    "def mergesort(list1):\n",
    "    if len(list1) > 1:\n",
    "        mid = len(list1)//2\n",
    "        left_list = list1[:mid]\n",
    "        right_list = list1[mid:]\n",
    "        mergesort(left_list)\n",
    "        mergesort(right_list)\n",
    "        i = 0\n",
    "        j = 0\n",
    "        k = 0\n",
    "        \n",
    "        while i<len(left_list) and j<len(right_list):\n",
    "            if left_list[i] < right_list[j]:\n",
    "                list1[k] = left_list[i]\n",
    "                i = i+1\n",
    "                k = k+1\n",
    "            else:\n",
    "                list1[k] = right_list[j]\n",
    "                j = j+1\n",
    "                k = k+1\n",
    "                \n",
    "        while i<len(left_list):\n",
    "            list1[k] = left_list[i]\n",
    "            i = i+1\n",
    "            k = k+1\n",
    "            \n",
    "        while j<len(right_list):\n",
    "            list1[k] = right_list[j]\n",
    "            j = j+1\n",
    "            k = k+1\n",
    "\n",
    "num = int(input(\"How many elments you want in the list:\"))\n",
    "list1 = [int(input()) for x in range(num)]\n",
    "mergesort(list1)\n",
    "print(\"Merged Sort: \",list1)"
   ]
  },
  {
   "cell_type": "markdown",
   "metadata": {},
   "source": [
    "## Insertion Sort\n",
    "It is a simple sorting algorithm,that builds the final sorted list one item at a time. <br>\n",
    "\n",
    "Algorithm step: <br>\n",
    "1. Consider the first element to be sorted and the rest to be unsorted.\n",
    "2. Take the first element in the unsorted part(u1) and compare it with sorted part elements(s1).\n",
    "3. If u1 < s1 then insert u1 in the correct index, else leave it as it is.\n",
    "4. Take next element in the unsorted part and compare with sorted elements.\n",
    "5. Repeat 3 and 4 untill all the elements are sorted."
   ]
  },
  {
   "cell_type": "markdown",
   "metadata": {},
   "source": [
    "<img src=\"https://humanwhocodes.com/images/wp-content/uploads/2012/09/insertionsort.png\" alt=\"Girl in a jacket\" width=\"300\" height=\"300\">"
   ]
  },
  {
   "cell_type": "code",
   "execution_count": 3,
   "metadata": {},
   "outputs": [
    {
     "name": "stdout",
     "output_type": "stream",
     "text": [
      "Insertion sort:  [1, 2, 3, 4, 5]\n"
     ]
    }
   ],
   "source": [
    "def insertionsort(my_list):\n",
    "    for index in range(1,len(my_list)):\n",
    "        current_element = my_list[index]\n",
    "        pos = index\n",
    "        while current_element < my_list[pos-1] and pos > 0:\n",
    "            my_list[pos] = my_list[pos-1]\n",
    "            pos = pos-1\n",
    "        my_list[pos] = current_element\n",
    "        \n",
    "list1 = [2,4,3,5,1]\n",
    "insertionsort(list1)\n",
    "print(\"Insertion sort: \",list1)\n",
    "\n",
    "#num = int(input(\"How many elements you want in the list: \"))\n",
    "#list1 = [int(input()) for i in range(num)]"
   ]
  },
  {
   "cell_type": "markdown",
   "metadata": {},
   "source": [
    "## Shell Sort\n",
    "-->Shell sort is a variation of insertion sort. <br>\n",
    "-->Sometimes called as \"Diminishing increment sort\".\n",
    "\n",
    "How Shell sort improves insertion sort algorithm:\n",
    "* By breaking the original list into a number of smaller sublists,each sublist is sorted using insertion sort. <br>\n",
    "* It will move the items nearer to its original index\n",
    "\n",
    "Algorithm step: <br>\n",
    "1. Take the list of numbers.\n",
    "2. Find out the gap/incrementor.\n",
    "3. Create the sublist based on gap and sort them using insertion sort algorithm.\n",
    "4. Reduce gap and repeat step 3.\n",
    "5. Stop when gap is 0."
   ]
  },
  {
   "cell_type": "markdown",
   "metadata": {},
   "source": [
    "<img src=\"https://www.robasworld.com/wp-content/uploads/2017/02/Shell-Sort.png\" alt=\"Girl in a jacket\" width=\"300\" height=\"300\">"
   ]
  },
  {
   "cell_type": "code",
   "execution_count": 4,
   "metadata": {},
   "outputs": [
    {
     "name": "stdout",
     "output_type": "stream",
     "text": [
      "Shell sort:  [5, 17, 20, 26, 31, 44, 54, 77, 93]\n"
     ]
    }
   ],
   "source": [
    "def shellsort(alist):\n",
    "    gap = len(alist)//2\n",
    "    while gap > 0:\n",
    "        for index in range(gap, len(alist)):\n",
    "            current_element = alist[index]\n",
    "            pos = index\n",
    "            while pos >= gap and current_element < alist[pos-gap]:\n",
    "                alist[pos] = alist[pos-gap]\n",
    "                pos = pos-gap\n",
    "            alist[pos] = current_element\n",
    "        gap = gap//2\n",
    "    \n",
    "list1 = [54,26,93,17,77,31,44,5,20]\n",
    "shellsort(list1)\n",
    "print(\"Shell sort: \",list1)"
   ]
  },
  {
   "cell_type": "markdown",
   "metadata": {},
   "source": [
    "## Quick Sort\n",
    "It is a simple sorting algorithm,that builds the final sorted list one item at a time. <br>\n",
    "* Also called as partition exchange sort.\n",
    "* When implemented well it can be about 2 or 3 times faster than its competitors merge sort & heap sort.\n",
    "* (Divide, Conquer, Combine)\n",
    "\n",
    "Algorithm step: <br>\n",
    "1. Select the pivot element.\n",
    "2. Find out the correct position of pivot element in the list by rearranging it.\n",
    "3. Divide the list based on pivot element.\n",
    "4. Sort the sub list recursively.\n",
    "\n",
    "Notes: <br>\n",
    "1. Ascending order: Smaller value, Pivot, Bigger value\n",
    "2. Descending order: Bigger value, Pivot, Smaller value\n",
    "\n",
    "Pivot Elements: <br>\n",
    "1. First element\n",
    "2. Second element\n",
    "3. Random element\n",
    "4. median of three element (first, middle, last)\n",
    "\n",
    "**Main step:**  <br>\n",
    "left <= right <br>\n",
    "a[left] <= pivot <br>\n",
    "a[right] >= pivot"
   ]
  },
  {
   "cell_type": "markdown",
   "metadata": {},
   "source": [
    "<img src=\"https://www.techiedelight.com/wp-content/uploads/Quicksort.png\" alt=\"Girl in a jacket\" width=\"400\" height=\"400\">"
   ]
  },
  {
   "cell_type": "code",
   "execution_count": 5,
   "metadata": {},
   "outputs": [
    {
     "name": "stdout",
     "output_type": "stream",
     "text": [
      "First element of quick sort:  [17, 26, 31, 44, 56, 93]\n"
     ]
    }
   ],
   "source": [
    "#First element\n",
    "def pivot_place(list1, first, last):\n",
    "    pivot = list1[first]\n",
    "    left = first+1\n",
    "    right = last\n",
    "    while True:\n",
    "        while left <= right and list1[left] <= pivot:\n",
    "            left = left+1\n",
    "        while left <= right and list1[right] >= pivot:\n",
    "            right = right-1\n",
    "        if right < left:\n",
    "            break\n",
    "        else:\n",
    "            list1[left], list1[right] = list1[right], list1[left]\n",
    "    list1[first], list1[right] = list1[right], list1[first]\n",
    "    return right\n",
    "\n",
    "def quicksort(list1, first, last):\n",
    "    if first < last:\n",
    "        p = pivot_place(list1, first, last)\n",
    "        quicksort(list1, first, p-1)\n",
    "        quicksort(list1, p+1, last)\n",
    "\n",
    "list1 = [56,26,93,17,31,44]\n",
    "n = len(list1)\n",
    "quicksort(list1, 0, n-1)\n",
    "print(\"First element of quick sort: \",list1)"
   ]
  },
  {
   "cell_type": "code",
   "execution_count": 6,
   "metadata": {},
   "outputs": [
    {
     "name": "stdout",
     "output_type": "stream",
     "text": [
      "Last element of quick sort:  [17, 26, 31, 44, 56, 93]\n"
     ]
    }
   ],
   "source": [
    "#Last element\n",
    "def pivot_place(list1, first, last):\n",
    "    pivot = list1[last]\n",
    "    left = first\n",
    "    right = last-1\n",
    "    while True:\n",
    "        while left <= right and list1[left] <= pivot:\n",
    "            left = left+1\n",
    "        while left <= right and list1[right] >= pivot:\n",
    "            right = right-1\n",
    "        if right < left:\n",
    "            break\n",
    "        else:\n",
    "            list1[left], list1[right] = list1[right], list1[left]\n",
    "    list1[last], list1[left] = list1[left], list1[last]\n",
    "    return left\n",
    "\n",
    "def quicksort(list1, first, last):\n",
    "    if first < last:\n",
    "        p = pivot_place(list1, first, last)\n",
    "        quicksort(list1, first, p-1)\n",
    "        quicksort(list1, p+1, last)\n",
    "\n",
    "list1 = [56,26,93,17,31,44]\n",
    "n = len(list1)\n",
    "quicksort(list1, 0, n-1)\n",
    "print(\"Last element of quick sort: \",list1)"
   ]
  },
  {
   "cell_type": "code",
   "execution_count": 7,
   "metadata": {},
   "outputs": [
    {
     "name": "stdout",
     "output_type": "stream",
     "text": [
      "Last element of quick sort:  [17, 26, 31, 44, 56, 93]\n"
     ]
    }
   ],
   "source": [
    "#Random element\n",
    "import random\n",
    "def pivot_place(list1, first, last):\n",
    "    rindex = random.randint(first, last)\n",
    "    list1[rindex], list1[last] = list1[last], list1[rindex]\n",
    "    pivot = list1[last]\n",
    "    left = first\n",
    "    right = last-1\n",
    "    while True:\n",
    "        while left <= right and list1[left] <= pivot:\n",
    "            left = left+1\n",
    "        while left <= right and list1[right] >= pivot:\n",
    "            right = right-1\n",
    "        if right < left:\n",
    "            break\n",
    "        else:\n",
    "            list1[left], list1[right] = list1[right], list1[left]\n",
    "    list1[last], list1[left] = list1[left], list1[last]\n",
    "    return left\n",
    "\n",
    "def quicksort(list1, first, last):\n",
    "    if first < last:\n",
    "        p = pivot_place(list1, first, last)\n",
    "        quicksort(list1, first, p-1)\n",
    "        quicksort(list1, p+1, last)\n",
    "\n",
    "list1 = [56,26,93,17,31,44]\n",
    "n = len(list1)\n",
    "quicksort(list1, 0, n-1)\n",
    "print(\"Last element of quick sort: \",list1)\n",
    "   "
   ]
  },
  {
   "cell_type": "code",
   "execution_count": 8,
   "metadata": {},
   "outputs": [
    {
     "name": "stdout",
     "output_type": "stream",
     "text": [
      "Last element of quick sort:  [17, 26, 31, 44, 56, 93]\n"
     ]
    }
   ],
   "source": [
    "#Median element\n",
    "import statistics\n",
    "def pivot_place(list1, first, last):\n",
    "    low = list1[first]\n",
    "    high = list1[last]\n",
    "    mid = (first+last)//2\n",
    "    pivot_val = statistics.median([low, list1[mid], high])\n",
    "    if pivot_val == low:\n",
    "        pindex = first\n",
    "    elif pivot_val == high:\n",
    "        pindex = last\n",
    "    else:\n",
    "        pindex = mid\n",
    "    list1[last], list1[pindex] = list1[pindex], list1[last]\n",
    "    \n",
    "    pivot = list1[last]\n",
    "    left = first\n",
    "    right = last-1\n",
    "    while True:\n",
    "        while left <= right and list1[left] <= pivot:\n",
    "            left = left+1\n",
    "        while left <= right and list1[right] >= pivot:\n",
    "            right = right-1\n",
    "        if right < left:\n",
    "            break\n",
    "        else:\n",
    "            list1[left], list1[right] = list1[right], list1[left]\n",
    "    list1[last], list1[left] = list1[left], list1[last]\n",
    "    return left\n",
    "\n",
    "def quicksort(list1, first, last):\n",
    "    if first < last:\n",
    "        p = pivot_place(list1, first, last)\n",
    "        quicksort(list1, first, p-1)\n",
    "        quicksort(list1, p+1, last)\n",
    "\n",
    "list1 = [56,26,93,17,31,44]\n",
    "n = len(list1)\n",
    "quicksort(list1, 0, n-1)\n",
    "print(\"Last element of quick sort: \",list1)\n",
    "   "
   ]
  },
  {
   "cell_type": "markdown",
   "metadata": {},
   "source": [
    "## Selection Sort\n",
    "\n",
    "\n",
    "Algorithm step: <br>\n",
    "1. Starting from the first element search for smallest (biggest) element in the list of numbers.\n",
    "2. Swap minimum (maximum) number with first element.\n",
    "3. Take the sublist (ignore sorted part) and repeat step 1 and 2 untill all the elements are sorted."
   ]
  },
  {
   "cell_type": "markdown",
   "metadata": {},
   "source": [
    "<img src=\"https://he-s3.s3.amazonaws.com/media/uploads/2888f5b.png\" alt=\"Girl in a jacket\" width=\"500\" height=\"500\">"
   ]
  },
  {
   "cell_type": "code",
   "execution_count": 9,
   "metadata": {},
   "outputs": [
    {
     "name": "stdout",
     "output_type": "stream",
     "text": [
      "[56, 3, 2, 78, 6, 0]\n",
      "Selection sort:  [0, 2, 3, 6, 56, 78]\n"
     ]
    }
   ],
   "source": [
    "#Using min and insert function\n",
    "list1 = [56,3,2,78,6,0]\n",
    "print(list1)\n",
    "for i in range(len(list1)):\n",
    "    min_val = min(list1[i:])\n",
    "    min_ind = list1.index(min_val)\n",
    "    list1[i], list1[min_ind] = list1[min_ind], list1[i]\n",
    "print(\"Selection sort: \",list1)"
   ]
  },
  {
   "cell_type": "code",
   "execution_count": 10,
   "metadata": {},
   "outputs": [
    {
     "name": "stdout",
     "output_type": "stream",
     "text": [
      "Unsorted list:  [34, 5, 6, 81, 0, 5]\n",
      "[0, 5, 6, 81, 34, 5]\n",
      "[0, 5, 6, 81, 34, 5]\n",
      "[0, 5, 5, 81, 34, 6]\n",
      "[0, 5, 5, 6, 34, 81]\n",
      "[0, 5, 5, 6, 34, 81]\n"
     ]
    }
   ],
   "source": [
    "list1 = [34,5,6,81,0,5]\n",
    "print(\"Unsorted list: \",list1)\n",
    "for i in range(len(list1)-1):\n",
    "    min_val = min(list1[i:])\n",
    "    min_ind = list1.index(min_val,i)\n",
    "    if list1[i] != list1[min_ind]:\n",
    "        list1[i], list1[min_ind] = list1[min_ind], list1[i]\n",
    "    print(list1)"
   ]
  },
  {
   "cell_type": "code",
   "execution_count": 11,
   "metadata": {},
   "outputs": [
    {
     "name": "stdout",
     "output_type": "stream",
     "text": [
      "Unsorted list:  [90, 0, 0, 45, 3, 25, 67, 3]\n",
      "[0, 90, 0, 45, 3, 25, 67, 3]\n",
      "[0, 0, 90, 45, 3, 25, 67, 3]\n",
      "[0, 0, 3, 45, 90, 25, 67, 3]\n",
      "[0, 0, 3, 3, 90, 25, 67, 45]\n",
      "[0, 0, 3, 3, 25, 90, 67, 45]\n",
      "[0, 0, 3, 3, 25, 45, 67, 90]\n",
      "[0, 0, 3, 3, 25, 45, 67, 90]\n"
     ]
    }
   ],
   "source": [
    "#Sort using normal method not min function\n",
    "list1 = [90,0,0,45,3,25,67,3]\n",
    "print(\"Unsorted list: \",list1)\n",
    "for i in range(len(list1)-1):\n",
    "    \n",
    "    m_val = list1[i]\n",
    "    for j in range(i+1, len(list1)):\n",
    "        if list1[j] < m_val:\n",
    "            m_val = list1[j]\n",
    "            \n",
    "    m_ind = list1.index(m_val,i)\n",
    "    if list1[i] != list1[m_ind]:\n",
    "        list1[i], list1[m_ind] = list1[m_ind], list1[i]\n",
    "    print(list1)"
   ]
  },
  {
   "cell_type": "code",
   "execution_count": 12,
   "metadata": {},
   "outputs": [
    {
     "name": "stdout",
     "output_type": "stream",
     "text": [
      "Unsorted list:  [24, 4, 66, 87, 9, 53]\n",
      "[4, 9, 24, 53, 66, 87]\n"
     ]
    }
   ],
   "source": [
    "#without using in-bulit insert function\n",
    "list1 = [24,4,66,87,9,53]\n",
    "print(\"Unsorted list: \",list1)\n",
    "for i in range(len(list1)-1):\n",
    "    m_ind = i\n",
    "    for j in range(i+1,len(list1)):\n",
    "        if list1[j] < list1[m_ind]:\n",
    "            m_ind = j\n",
    "            \n",
    "    if list1[i] != list1[min_ind]:\n",
    "        list1[i], list1[m_ind] = list1[m_ind], list1[i]\n",
    "print(list1)"
   ]
  }
 ],
 "metadata": {
  "kernelspec": {
   "display_name": "Python 3",
   "language": "python",
   "name": "python3"
  },
  "language_info": {
   "codemirror_mode": {
    "name": "ipython",
    "version": 3
   },
   "file_extension": ".py",
   "mimetype": "text/x-python",
   "name": "python",
   "nbconvert_exporter": "python",
   "pygments_lexer": "ipython3",
   "version": "3.8.5"
  }
 },
 "nbformat": 4,
 "nbformat_minor": 4
}
